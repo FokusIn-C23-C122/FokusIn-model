{
  "cells": [
    {
      "cell_type": "markdown",
      "metadata": {
        "id": "oxFkYwS6Zr8d"
      },
      "source": [
        "#Mounting Google Drive"
      ]
    },
    {
      "cell_type": "code",
      "execution_count": null,
      "metadata": {
        "colab": {
          "base_uri": "https://localhost:8080/"
        },
        "id": "4q1SQAEyrvFG",
        "outputId": "bd0bee0e-e4e6-4808-ab45-2209781ea068"
      },
      "outputs": [
        {
          "output_type": "stream",
          "name": "stdout",
          "text": [
            "Mounted at /content/drive\n"
          ]
        }
      ],
      "source": [
        "# Mounting Google Drive in Google Colab\n",
        "from google.colab import drive\n",
        "drive.mount('/content/drive')"
      ]
    },
    {
      "cell_type": "markdown",
      "metadata": {
        "id": "LqO6HYd9ZwVa"
      },
      "source": [
        "#Extracting a Zip File"
      ]
    },
    {
      "cell_type": "code",
      "execution_count": null,
      "metadata": {
        "id": "jkzoriqFr8oZ"
      },
      "outputs": [],
      "source": [
        "# Extracting a ZIP file in Google Colab\n",
        "import zipfile\n",
        "\n",
        "# Path to the ZIP file\n",
        "zip_file_path = '/content/drive/MyDrive/Datasets/processed_dataset.zip'\n",
        "\n",
        "# Extracting the ZIP file\n",
        "with zipfile.ZipFile(zip_file_path, 'r') as zip_ref:\n",
        "    zip_ref.extractall('/content/data')"
      ]
    },
    {
      "cell_type": "markdown",
      "metadata": {
        "id": "W62RuXoMZyu2"
      },
      "source": [
        "#Organizing Images and Labels"
      ]
    },
    {
      "cell_type": "code",
      "execution_count": null,
      "metadata": {
        "colab": {
          "base_uri": "https://localhost:8080/"
        },
        "id": "6e2hobxhS9jg",
        "outputId": "118565b0-5148-43e7-ded9-b1aee133482b"
      },
      "outputs": [
        {
          "output_type": "stream",
          "name": "stdout",
          "text": [
            "Separation completed successfully.\n"
          ]
        }
      ],
      "source": [
        "# Separating images and labels into respective folders in Google Colab\n",
        "import os\n",
        "import shutil\n",
        "\n",
        "# Path to the train, test, and val folders\n",
        "train_folder = '/content/data/content/train'\n",
        "test_folder = '/content/data/content/test'\n",
        "val_folder = '/content/data/content/val'\n",
        "\n",
        "# Function to separate images and labels into their respective folders\n",
        "def separate_images_labels(folder_path):\n",
        "    \"\"\"\n",
        "    Separates images and labels into their respective folders.\n",
        "\n",
        "    Args:\n",
        "        folder_path (str): Path to the folder containing images and labels.\n",
        "    \"\"\"\n",
        "    # Create 'images' and 'labels' folders\n",
        "    images_folder = os.path.join(folder_path, 'images')\n",
        "    labels_folder = os.path.join(folder_path, 'labels')\n",
        "    os.makedirs(images_folder, exist_ok=True)\n",
        "    os.makedirs(labels_folder, exist_ok=True)\n",
        "\n",
        "    # Move files to the respective folders\n",
        "    for file_name in os.listdir(folder_path):\n",
        "        file_path = os.path.join(folder_path, file_name)\n",
        "        if file_name.lower().endswith('.jpg') or file_name.lower().endswith('.jpeg'):\n",
        "            shutil.move(file_path, os.path.join(images_folder, file_name))\n",
        "        elif file_name.lower().endswith('.xml'):\n",
        "            shutil.move(file_path, os.path.join(labels_folder, file_name))\n",
        "\n",
        "# Separate images and labels within the train folder\n",
        "separate_images_labels(train_folder)\n",
        "\n",
        "# Separate images and labels within the test folder\n",
        "separate_images_labels(test_folder)\n",
        "\n",
        "# Separate images and labels within the val folder\n",
        "separate_images_labels(val_folder)\n",
        "\n",
        "print(\"Separation completed successfully.\")\n"
      ]
    },
    {
      "cell_type": "markdown",
      "metadata": {
        "id": "7EDZXPG7Z1te"
      },
      "source": [
        "#Data Preprocessing and Generation"
      ]
    },
    {
      "cell_type": "code",
      "execution_count": null,
      "metadata": {
        "id": "WouDTAJKw8PI"
      },
      "outputs": [],
      "source": [
        "# Data Preprocessing and Data Generator in TensorFlow for image classification\n",
        "import os\n",
        "import cv2\n",
        "import xml.etree.ElementTree as ET\n",
        "import numpy as np\n",
        "import tensorflow as tf\n",
        "from tensorflow.keras.preprocessing.image import ImageDataGenerator\n",
        "\n",
        "def parse_xml_label(label_path):\n",
        "    \"\"\"\n",
        "    Parses an XML label file and extracts label information.\n",
        "\n",
        "    Args:\n",
        "        label_path (str): Path to the XML label file.\n",
        "\n",
        "    Returns:\n",
        "        list: A list of tuples containing label information (name, (xmin, ymin, xmax, ymax)).\n",
        "    \"\"\"\n",
        "    # Parse the XML label\n",
        "    tree = ET.parse(label_path)\n",
        "    root = tree.getroot()\n",
        "\n",
        "    # Extract label information\n",
        "    label_info = []\n",
        "    for obj in root.findall('object'):\n",
        "        name = obj.find('name').text\n",
        "        xmin = int(obj.find('bndbox/xmin').text)\n",
        "        ymin = int(obj.find('bndbox/ymin').text)\n",
        "        xmax = int(obj.find('bndbox/xmax').text)\n",
        "        ymax = int(obj.find('bndbox/ymax').text)\n",
        "        label_info.append((name, (xmin, ymin, xmax, ymax)))\n",
        "\n",
        "    return label_info\n",
        "\n",
        "def preprocess_image(image, target_size):\n",
        "    \"\"\"\n",
        "    Preprocesses an image by resizing and normalizing it.\n",
        "\n",
        "    Args:\n",
        "        image (numpy.ndarray): The input image.\n",
        "        target_size (tuple): The target size for resizing the image.\n",
        "\n",
        "    Returns:\n",
        "        numpy.ndarray: The preprocessed image.\n",
        "    \"\"\"\n",
        "    # Resize the image\n",
        "    resized_image = cv2.resize(image, target_size)\n",
        "    preprocessed_image = resized_image.astype(np.float32) / 255.0\n",
        "\n",
        "    return preprocessed_image\n",
        "\n",
        "def preprocess_data(image_path, label_path, target_size, num_classes, class_to_index):\n",
        "    \"\"\"\n",
        "    Preprocesses an image and its corresponding label.\n",
        "\n",
        "    Args:\n",
        "        image_path (str): Path to the image file.\n",
        "        label_path (str): Path to the XML label file.\n",
        "        target_size (tuple): The target size for resizing the image.\n",
        "        num_classes (int): The number of classes.\n",
        "        class_to_index (dict): A dictionary mapping class names to their respective indices.\n",
        "\n",
        "    Returns:\n",
        "        tuple: A tuple containing the preprocessed image and its corresponding label tensor.\n",
        "    \"\"\"\n",
        "    image = cv2.imread(image_path)\n",
        "    label_info = parse_xml_label(label_path)\n",
        "\n",
        "    preprocessed_image = preprocess_image(image, target_size)\n",
        "\n",
        "    label_tensor = np.zeros((num_classes,), dtype=np.float32)\n",
        "    for name, bbox in label_info:\n",
        "        if name in class_to_index:\n",
        "            label_tensor[class_to_index[name]] = 1.0\n",
        "\n",
        "    return preprocessed_image, label_tensor\n",
        "\n",
        "\n",
        "def data_generator(image_dir, label_dir, target_size, num_classes, class_to_index, batch_size=32):\n",
        "    \"\"\"\n",
        "    Generates batches of preprocessed images and their corresponding label tensors.\n",
        "\n",
        "    Args:\n",
        "        image_dir (str): Path to the directory containing the images.\n",
        "        label_dir (str): Path to the directory containing the XML label files.\n",
        "        target_size (tuple): The target size for resizing the images.\n",
        "        num_classes (int): The number of classes.\n",
        "        class_to_index (dict): A dictionary mapping class names to their respective indices.\n",
        "        batch_size (int, optional): The batch size. Defaults to 32.\n",
        "\n",
        "    Yields:\n",
        "        tuple: A tuple containing the batch of preprocessed images and their corresponding label tensors.\n",
        "    \"\"\"\n",
        "    image_filenames = [filename for filename in os.listdir(image_dir) if filename.endswith('.jpg')]\n",
        "    num_samples = len(image_filenames)\n",
        "    steps_per_epoch = num_samples // batch_size\n",
        "\n",
        "    while True:\n",
        "        np.random.shuffle(image_filenames)\n",
        "\n",
        "        for i in range(steps_per_epoch):\n",
        "            batch_start = i * batch_size\n",
        "            batch_end = (i + 1) * batch_size\n",
        "            batch_filenames = image_filenames[batch_start:batch_end]\n",
        "\n",
        "            batch_images = []\n",
        "            batch_labels = []\n",
        "\n",
        "            for filename in batch_filenames:\n",
        "                image_path = os.path.join(image_dir, filename)\n",
        "                label_path = os.path.join(label_dir, filename.replace('.jpg', '.xml'))\n",
        "\n",
        "                image, label = preprocess_data(image_path, label_path, target_size, num_classes, class_to_index)\n",
        "\n",
        "                batch_images.append(image)\n",
        "                batch_labels.append(label)\n",
        "\n",
        "            yield np.array(batch_images), np.array(batch_labels)\n",
        "\n",
        "\n",
        "# Define the paths to the image and label directories\n",
        "image_dir = '/content/data/content/train/images'\n",
        "label_dir = '/content/data/content/train/labels'\n",
        "\n",
        "# Define the target input size for the model\n",
        "target_size = (224, 224)\n",
        "\n",
        "# Define the number of classes and class-to-index mapping\n",
        "num_classes = 2\n",
        "class_to_index = {'focused': 0, 'not focused': 1}\n",
        "\n",
        "# Create the data generator\n",
        "batch_size = 32\n",
        "train_data_generator = data_generator(image_dir, label_dir, target_size, num_classes, class_to_index, batch_size)\n",
        "\n",
        "# Define the paths to the validation image and label directories\n",
        "val_image_dir = '/content/data/content/val/images'\n",
        "val_label_dir = '/content/data/content/val/labels'\n",
        "\n",
        "# Create the validation generator\n",
        "validation_generator = data_generator(val_image_dir, val_label_dir , target_size, num_classes, class_to_index, batch_size)"
      ]
    },
    {
      "cell_type": "markdown",
      "metadata": {
        "id": "OS_sTwvbZ87V"
      },
      "source": [
        "#Model Training and Evaluation"
      ]
    },
    {
      "cell_type": "code",
      "execution_count": null,
      "metadata": {
        "id": "UL9-ppxq43jw"
      },
      "outputs": [],
      "source": [
        "import tensorflow as tf\n",
        "\n",
        "class myCallback(tf.keras.callbacks.Callback):\n",
        "    \"\"\"\n",
        "    Custom callback class to monitor the training progress and stop training when a certain condition is met.\n",
        "\n",
        "    This class extends the `tf.keras.callbacks.Callback` class and overrides the `on_epoch_end` method.\n",
        "\n",
        "    Attributes:\n",
        "        None\n",
        "\n",
        "    Methods:\n",
        "        on_epoch_end(epoch, logs): Function called at the end of each epoch.\n",
        "\n",
        "    Usage:\n",
        "        callback = myCallback()\n",
        "        model.fit(x_train, y_train, callbacks=[callback])\n",
        "    \"\"\"\n",
        "\n",
        "    def on_epoch_end(self, epoch, logs={}):\n",
        "        \"\"\"\n",
        "        Function called at the end of each epoch.\n",
        "\n",
        "        Args:\n",
        "            epoch (int): The current epoch number.\n",
        "            logs (dict): Dictionary containing the training metrics.\n",
        "\n",
        "        Returns:\n",
        "            None\n",
        "        \"\"\"\n",
        "        if logs.get('accuracy') > 0.80:\n",
        "            print(\"\\nReached 90% accuracy, so cancelling training!\")\n",
        "            self.model.stop_training = True\n"
      ]
    },
    {
      "cell_type": "code",
      "execution_count": null,
      "metadata": {
        "colab": {
          "base_uri": "https://localhost:8080/"
        },
        "id": "Xx7n0tT2VdN8",
        "outputId": "b83212b3-3d64-4bf0-e79d-9dd9a5d0a3b6"
      },
      "outputs": [
        {
          "output_type": "stream",
          "name": "stdout",
          "text": [
            "Epoch 1/35\n",
            "39/39 [==============================] - 331s 8s/step - loss: 0.7869 - accuracy: 0.5337 - precision: 0.4982 - recall: 0.3822 - auc: 0.5566 - val_loss: 0.6936 - val_accuracy: 0.2578 - val_precision: 0.0000e+00 - val_recall: 0.0000e+00 - val_auc: 0.3696\n",
            "Epoch 2/35\n",
            "39/39 [==============================] - 313s 8s/step - loss: 0.6793 - accuracy: 0.5505 - precision: 0.5503 - recall: 0.2905 - auc: 0.5803 - val_loss: 0.6510 - val_accuracy: 0.7305 - val_precision: 0.8067 - val_recall: 0.4979 - val_auc: 0.7231\n",
            "Epoch 3/35\n",
            "39/39 [==============================] - 313s 8s/step - loss: 0.6608 - accuracy: 0.6058 - precision: 0.5879 - recall: 0.4092 - auc: 0.6391 - val_loss: 0.6065 - val_accuracy: 0.7383 - val_precision: 0.7610 - val_recall: 0.6420 - val_auc: 0.7255\n",
            "Epoch 4/35\n",
            "39/39 [==============================] - 291s 8s/step - loss: 0.6493 - accuracy: 0.5729 - precision: 0.5726 - recall: 0.5067 - auc: 0.6550 - val_loss: 0.6203 - val_accuracy: 0.7305 - val_precision: 0.7975 - val_recall: 0.5143 - val_auc: 0.7258\n",
            "Epoch 5/35\n",
            "39/39 [==============================] - 294s 8s/step - loss: 0.6420 - accuracy: 0.5954 - precision: 0.5950 - recall: 0.4699 - auc: 0.6613 - val_loss: 0.6426 - val_accuracy: 0.7227 - val_precision: 0.7974 - val_recall: 0.5021 - val_auc: 0.7307\n",
            "Epoch 6/35\n",
            "39/39 [==============================] - 290s 8s/step - loss: 0.6380 - accuracy: 0.5986 - precision: 0.5891 - recall: 0.5045 - auc: 0.6750 - val_loss: 0.6376 - val_accuracy: 0.7383 - val_precision: 0.8117 - val_recall: 0.5165 - val_auc: 0.7348\n",
            "Epoch 7/35\n",
            "39/39 [==============================] - 293s 8s/step - loss: 0.6304 - accuracy: 0.6082 - precision: 0.6028 - recall: 0.5036 - auc: 0.6873 - val_loss: 0.6195 - val_accuracy: 0.7344 - val_precision: 0.8113 - val_recall: 0.5353 - val_auc: 0.7285\n",
            "Epoch 8/35\n",
            "39/39 [==============================] - 314s 8s/step - loss: 0.6255 - accuracy: 0.6194 - precision: 0.6281 - recall: 0.4735 - auc: 0.6905 - val_loss: 0.6329 - val_accuracy: 0.7617 - val_precision: 0.8174 - val_recall: 0.3884 - val_auc: 0.7243\n",
            "Epoch 9/35\n",
            "39/39 [==============================] - 316s 8s/step - loss: 0.6188 - accuracy: 0.6170 - precision: 0.6176 - recall: 0.4982 - auc: 0.6996 - val_loss: 0.6555 - val_accuracy: 0.7344 - val_precision: 0.8000 - val_recall: 0.3592 - val_auc: 0.6648\n",
            "Epoch 10/35\n",
            "39/39 [==============================] - 291s 8s/step - loss: 0.6154 - accuracy: 0.6210 - precision: 0.6225 - recall: 0.5309 - auc: 0.7043 - val_loss: 0.5871 - val_accuracy: 0.7539 - val_precision: 0.8211 - val_recall: 0.6316 - val_auc: 0.7813\n",
            "Epoch 11/35\n",
            "39/39 [==============================] - 292s 8s/step - loss: 0.6174 - accuracy: 0.6162 - precision: 0.6031 - recall: 0.5212 - auc: 0.7012 - val_loss: 0.6440 - val_accuracy: 0.6992 - val_precision: 0.7727 - val_recall: 0.4917 - val_auc: 0.7220\n",
            "Epoch 12/35\n",
            "39/39 [==============================] - 313s 8s/step - loss: 0.6131 - accuracy: 0.6226 - precision: 0.6097 - recall: 0.4748 - auc: 0.7035 - val_loss: 0.6059 - val_accuracy: 0.7461 - val_precision: 0.7879 - val_recall: 0.6420 - val_auc: 0.7760\n",
            "Epoch 13/35\n",
            "39/39 [==============================] - 314s 8s/step - loss: 0.6049 - accuracy: 0.6466 - precision: 0.6330 - recall: 0.5346 - auc: 0.7159 - val_loss: 0.6098 - val_accuracy: 0.7266 - val_precision: 0.7524 - val_recall: 0.6423 - val_auc: 0.7529\n",
            "Epoch 14/35\n",
            "39/39 [==============================] - 292s 8s/step - loss: 0.6051 - accuracy: 0.6474 - precision: 0.6301 - recall: 0.4960 - auc: 0.7134 - val_loss: 0.5854 - val_accuracy: 0.7227 - val_precision: 0.7561 - val_recall: 0.6405 - val_auc: 0.7660\n",
            "Epoch 15/35\n",
            "39/39 [==============================] - 290s 8s/step - loss: 0.5992 - accuracy: 0.6546 - precision: 0.6296 - recall: 0.5248 - auc: 0.7231 - val_loss: 0.5865 - val_accuracy: 0.7188 - val_precision: 0.7913 - val_recall: 0.6653 - val_auc: 0.7676\n",
            "Epoch 16/35\n",
            "39/39 [==============================] - 290s 8s/step - loss: 0.5952 - accuracy: 0.6562 - precision: 0.6534 - recall: 0.5588 - auc: 0.7330 - val_loss: 0.6103 - val_accuracy: 0.7031 - val_precision: 0.8101 - val_recall: 0.5267 - val_auc: 0.7552\n",
            "Epoch 17/35\n",
            "39/39 [==============================] - 313s 8s/step - loss: 0.5826 - accuracy: 0.6659 - precision: 0.6611 - recall: 0.5737 - auc: 0.7470 - val_loss: 0.5922 - val_accuracy: 0.6992 - val_precision: 0.7610 - val_recall: 0.6446 - val_auc: 0.7398\n",
            "Epoch 18/35\n",
            "39/39 [==============================] - 314s 8s/step - loss: 0.5805 - accuracy: 0.6538 - precision: 0.6420 - recall: 0.5392 - auc: 0.7438 - val_loss: 0.6235 - val_accuracy: 0.7305 - val_precision: 0.8026 - val_recall: 0.5000 - val_auc: 0.7279\n",
            "Epoch 19/35\n",
            "39/39 [==============================] - 292s 8s/step - loss: 0.5725 - accuracy: 0.6771 - precision: 0.6684 - recall: 0.5849 - auc: 0.7611 - val_loss: 0.6178 - val_accuracy: 0.6875 - val_precision: 0.8000 - val_recall: 0.5103 - val_auc: 0.7437\n",
            "Epoch 20/35\n",
            "39/39 [==============================] - 293s 8s/step - loss: 0.5619 - accuracy: 0.6843 - precision: 0.6778 - recall: 0.5845 - auc: 0.7703 - val_loss: 0.6225 - val_accuracy: 0.6484 - val_precision: 0.7737 - val_recall: 0.4380 - val_auc: 0.7107\n",
            "Epoch 21/35\n",
            "39/39 [==============================] - 290s 8s/step - loss: 0.5377 - accuracy: 0.6891 - precision: 0.6944 - recall: 0.6065 - auc: 0.7913 - val_loss: 0.6022 - val_accuracy: 0.7031 - val_precision: 0.7877 - val_recall: 0.4752 - val_auc: 0.7294\n",
            "Epoch 22/35\n",
            "39/39 [==============================] - 307s 8s/step - loss: 0.5400 - accuracy: 0.6851 - precision: 0.6881 - recall: 0.6169 - auc: 0.7894 - val_loss: 0.6213 - val_accuracy: 0.7148 - val_precision: 0.6884 - val_recall: 0.6116 - val_auc: 0.7081\n",
            "Epoch 23/35\n",
            "39/39 [==============================] - 308s 8s/step - loss: 0.5097 - accuracy: 0.7139 - precision: 0.7120 - recall: 0.6409 - auc: 0.8182 - val_loss: 0.6054 - val_accuracy: 0.6914 - val_precision: 0.7831 - val_recall: 0.5350 - val_auc: 0.7381\n",
            "Epoch 24/35\n",
            "39/39 [==============================] - 284s 7s/step - loss: 0.5023 - accuracy: 0.7147 - precision: 0.7198 - recall: 0.6655 - auc: 0.8234 - val_loss: 0.6286 - val_accuracy: 0.6367 - val_precision: 0.6957 - val_recall: 0.5224 - val_auc: 0.6919\n",
            "Epoch 25/35\n",
            "39/39 [==============================] - 309s 8s/step - loss: 0.4564 - accuracy: 0.7460 - precision: 0.7469 - recall: 0.7066 - auc: 0.8605 - val_loss: 0.5827 - val_accuracy: 0.6914 - val_precision: 0.7753 - val_recall: 0.5633 - val_auc: 0.7498\n",
            "Epoch 26/35\n",
            "39/39 [==============================] - 286s 8s/step - loss: 0.4440 - accuracy: 0.7484 - precision: 0.7531 - recall: 0.7138 - auc: 0.8668 - val_loss: 0.6050 - val_accuracy: 0.6914 - val_precision: 0.7020 - val_recall: 0.5673 - val_auc: 0.7325\n",
            "Epoch 27/35\n",
            "39/39 [==============================] - 308s 8s/step - loss: 0.4224 - accuracy: 0.7652 - precision: 0.7813 - recall: 0.7356 - auc: 0.8842 - val_loss: 0.6260 - val_accuracy: 0.7109 - val_precision: 0.7254 - val_recall: 0.5691 - val_auc: 0.7374\n",
            "Epoch 28/35\n",
            "39/39 [==============================] - 307s 8s/step - loss: 0.3859 - accuracy: 0.7885 - precision: 0.8047 - recall: 0.7772 - auc: 0.9043 - val_loss: 0.6564 - val_accuracy: 0.7031 - val_precision: 0.7541 - val_recall: 0.5656 - val_auc: 0.7522\n",
            "Epoch 29/35\n",
            "39/39 [==============================] - 307s 8s/step - loss: 0.3620 - accuracy: 0.7756 - precision: 0.8009 - recall: 0.7678 - auc: 0.9146 - val_loss: 0.6752 - val_accuracy: 0.6719 - val_precision: 0.6748 - val_recall: 0.5697 - val_auc: 0.7324\n",
            "Epoch 30/35\n",
            "39/39 [==============================] - ETA: 0s - loss: 0.3262 - accuracy: 0.8165 - precision: 0.8390 - recall: 0.8201 - auc: 0.9338\n",
            "Reached 90% accuracy, so cancelling training!\n",
            "39/39 [==============================] - 306s 8s/step - loss: 0.3262 - accuracy: 0.8165 - precision: 0.8390 - recall: 0.8201 - auc: 0.9338 - val_loss: 0.6500 - val_accuracy: 0.7031 - val_precision: 0.7048 - val_recall: 0.6091 - val_auc: 0.7386\n"
          ]
        }
      ],
      "source": [
        "import tensorflow as tf\n",
        "\n",
        "# Define the CNN model architecture\n",
        "model = tf.keras.Sequential([\n",
        "    tf.keras.layers.Conv2D(32, (3, 3), activation='relu', input_shape=(224, 224, 3)),\n",
        "    tf.keras.layers.MaxPooling2D((2, 2)),\n",
        "    tf.keras.layers.Conv2D(64, (3, 3), activation='relu'),\n",
        "    tf.keras.layers.MaxPooling2D((2, 2)),\n",
        "    tf.keras.layers.Conv2D(128, (3, 3), activation='relu'),\n",
        "    tf.keras.layers.MaxPooling2D((2, 2)),\n",
        "    tf.keras.layers.Flatten(),\n",
        "    tf.keras.layers.Dense(128, activation='relu'),\n",
        "    tf.keras.layers.Dropout(0.5),\n",
        "    tf.keras.layers.Dense(num_classes, activation='sigmoid')\n",
        "])\n",
        "\n",
        "# Compile the model with appropriate loss, metrics, and optimizer\n",
        "learning_rate = 1e-3\n",
        "optimizer = tf.keras.optimizers.Adam(learning_rate=learning_rate)\n",
        "model.compile(optimizer=optimizer,\n",
        "              loss='binary_crossentropy',\n",
        "              metrics=['accuracy', tf.keras.metrics.Precision(), tf.keras.metrics.Recall(), tf.keras.metrics.AUC()])\n",
        "\n",
        "# Create an instance of the custom callback\n",
        "callbacks = myCallback()\n",
        "\n",
        "# Train the model\n",
        "epochs = 35\n",
        "steps_per_epoch = len(os.listdir(image_dir)) // batch_size\n",
        "history = model.fit(train_data_generator,\n",
        "          steps_per_epoch=steps_per_epoch,\n",
        "          epochs=epochs,\n",
        "          verbose=1,\n",
        "          validation_data=validation_generator,\n",
        "          validation_steps=8,\n",
        "          callbacks=[callbacks])\n"
      ]
    },
    {
      "cell_type": "code",
      "execution_count": null,
      "metadata": {
        "colab": {
          "base_uri": "https://localhost:8080/",
          "height": 166
        },
        "id": "ItIZrU52b1kP",
        "outputId": "fd471e6a-a14e-4157-f6f8-9acfca4d5d90"
      },
      "outputs": [
        {
          "output_type": "error",
          "ename": "NameError",
          "evalue": "ignored",
          "traceback": [
            "\u001b[0;31m---------------------------------------------------------------------------\u001b[0m",
            "\u001b[0;31mNameError\u001b[0m                                 Traceback (most recent call last)",
            "\u001b[0;32m<ipython-input-1-5f15418b3570>\u001b[0m in \u001b[0;36m<cell line: 1>\u001b[0;34m()\u001b[0m\n\u001b[0;32m----> 1\u001b[0;31m \u001b[0mmodel\u001b[0m\u001b[0;34m.\u001b[0m\u001b[0msummary\u001b[0m\u001b[0;34m(\u001b[0m\u001b[0;34m)\u001b[0m\u001b[0;34m\u001b[0m\u001b[0;34m\u001b[0m\u001b[0m\n\u001b[0m",
            "\u001b[0;31mNameError\u001b[0m: name 'model' is not defined"
          ]
        }
      ],
      "source": [
        "model.summary()"
      ]
    },
    {
      "cell_type": "code",
      "execution_count": null,
      "metadata": {
        "colab": {
          "base_uri": "https://localhost:8080/",
          "height": 927
        },
        "id": "twlauBSfXOsu",
        "outputId": "b3b742e7-a410-4aa3-feb6-9e757f96e027"
      },
      "outputs": [
        {
          "output_type": "display_data",
          "data": {
            "text/plain": [
              "<Figure size 640x480 with 1 Axes>"
            ],
            "image/png": "[encoded data removed]"
          },
          "metadata": {}
        },
        {
          "output_type": "display_data",
          "data": {
            "text/plain": [
              "<Figure size 640x480 with 1 Axes>"
            ],
            "image/png": "[encoded data removed]"
          },
          "metadata": {}
        }
      ],
      "source": [
        "import matplotlib.pyplot as plt\n",
        "# Retrieve loss and accuracy values from history object\n",
        "train_loss = history.history['loss']\n",
        "val_loss = history.history['val_loss']\n",
        "train_acc = history.history['accuracy']\n",
        "val_acc = history.history['val_accuracy']\n",
        "\n",
        "# Plot the loss graph\n",
        "epochs = range(1, len(train_loss) + 1)\n",
        "plt.plot(epochs, train_loss, label='Training Loss')\n",
        "plt.plot(epochs, val_loss, label='Validation Loss')\n",
        "plt.xlabel('Epochs')\n",
        "plt.ylabel('Loss')\n",
        "plt.title('Training and Validation Loss')\n",
        "plt.legend()\n",
        "plt.show()\n",
        "\n",
        "# Plot the accuracy graph\n",
        "plt.plot(epochs, train_acc, label='Training Accuracy')\n",
        "plt.plot(epochs, val_acc, label='Validation Accuracy')\n",
        "plt.xlabel('Epochs')\n",
        "plt.ylabel('Accuracy')\n",
        "plt.title('Training and Validation Accuracy')\n",
        "plt.legend()\n",
        "plt.show()"
      ]
    },
    {
      "cell_type": "markdown",
      "metadata": {
        "id": "bDLDlRpHaAs8"
      },
      "source": [
        "#Model Prediction"
      ]
    },
    {
      "cell_type": "code",
      "execution_count": null,
      "metadata": {
        "id": "nytyWqLHqfpx"
      },
      "outputs": [],
      "source": [
        "import numpy as np\n",
        "from google.colab import files\n",
        "from tensorflow.keras.utils import load_img, img_to_array\n",
        "\n",
        "# Upload image file\n",
        "uploaded = files.upload()\n",
        "\n",
        "# Iterate over uploaded files\n",
        "for fn in uploaded.keys():\n",
        "    # Load and preprocess the image\n",
        "    path = fn\n",
        "    img = load_img(path, target_size=(224, 224))\n",
        "    x = img_to_array(img)\n",
        "    x /= 255\n",
        "    x = np.expand_dims(x, axis=0)\n",
        "\n",
        "    # Predict the class probabilities\n",
        "    images = np.vstack([x])\n",
        "    classes = model.predict(images, batch_size=10)\n",
        "\n",
        "    # Print the predicted class probabilities\n",
        "    print(classes[0])\n",
        "\n",
        "    # Determine the predicted class and print the result\n",
        "    if classes[0][0] > 0.85:\n",
        "        print(fn + \" Fokus\")\n",
        "        print(\"Confident level: \", classes[0][0])\n",
        "    else:\n",
        "        print(fn + \" Tidak Fokus\")\n",
        "        print(\"Confident level: \", classes[0][1])"
      ]
    },
    {
      "cell_type": "markdown",
      "metadata": {
        "id": "n00zjbx7aC4m"
      },
      "source": [
        "#Model Saving"
      ]
    },
    {
      "cell_type": "code",
      "execution_count": null,
      "metadata": {
        "id": "hbX_SBfpqw-8"
      },
      "outputs": [],
      "source": [
        "#import time\n",
        "\n",
        "# # Generate a unique filename based on the current timestamp\n",
        "#saved_model_path = \"./maman{}.h5\".format(int(time.time()))\n",
        "\n",
        "# # Save the model to the specified path\n",
        "#model.save(saved_model_path)"
      ]
    },
    {
      "cell_type": "code",
      "execution_count": null,
      "metadata": {
        "id": "VzShU0Yd6pGH",
        "colab": {
          "base_uri": "https://localhost:8080/"
        },
        "outputId": "a551a531-69c1-4872-9fae-6860a60a6e94"
      },
      "outputs": [
        {
          "output_type": "stream",
          "name": "stderr",
          "text": [
            "WARNING:absl:Found untraced functions such as _jit_compiled_convolution_op, _jit_compiled_convolution_op, _jit_compiled_convolution_op while saving (showing 3 of 3). These functions will not be directly callable after loading.\n"
          ]
        },
        {
          "output_type": "stream",
          "name": "stdout",
          "text": [
            "\n",
            "export_path = /content/drive/MyDrive/FokusIn_Capstone_Project/Models/1\n",
            "total 243\n",
            "drwx------ 2 root root   4096 Jun 14 10:31 assets\n",
            "-rw------- 1 root root     56 Jun 14 10:31 fingerprint.pb\n",
            "-rw------- 1 root root  22498 Jun 14 10:31 keras_metadata.pb\n",
            "-rw------- 1 root root 216886 Jun 14 10:31 saved_model.pb\n",
            "drwx------ 2 root root   4096 Jun 14 10:31 variables\n"
          ]
        }
      ],
      "source": [
        "MODEL_DIR = '/content/drive/MyDrive/FokusIn_Capstone_Project/Models/'\n",
        "\n",
        "version = 1\n",
        "\n",
        "export_path = os.path.join(MODEL_DIR, str(version))\n",
        "\n",
        "if os.path.isdir(export_path):\n",
        "    print('\\nAlready saved a model, cleaning up\\n')\n",
        "    !rm -r {export_path}\n",
        "\n",
        "model.save(export_path, save_format=\"tf\")\n",
        "\n",
        "print('\\nexport_path = {}'.format(export_path))\n",
        "!ls -l {export_path}"
      ]
    },
    {
      "cell_type": "code",
      "execution_count": null,
      "metadata": {
        "id": "5nK5P1y77RTX",
        "colab": {
          "base_uri": "https://localhost:8080/"
        },
        "outputId": "8924073a-22a3-4f13-ce30-3f6599dcf38d"
      },
      "outputs": [
        {
          "output_type": "stream",
          "name": "stdout",
          "text": [
            "2023-06-14 10:31:44.446731: W tensorflow/compiler/tf2tensorrt/utils/py_utils.cc:38] TF-TRT Warning: Could not find TensorRT\n",
            "\n",
            "MetaGraphDef with tag-set: 'serve' contains the following SignatureDefs:\n",
            "\n",
            "signature_def['__saved_model_init_op']:\n",
            "  The given SavedModel SignatureDef contains the following input(s):\n",
            "  The given SavedModel SignatureDef contains the following output(s):\n",
            "    outputs['__saved_model_init_op'] tensor_info:\n",
            "        dtype: DT_INVALID\n",
            "        shape: unknown_rank\n",
            "        name: NoOp\n",
            "  Method name is: \n",
            "\n",
            "signature_def['serving_default']:\n",
            "  The given SavedModel SignatureDef contains the following input(s):\n",
            "    inputs['conv2d_input'] tensor_info:\n",
            "        dtype: DT_FLOAT\n",
            "        shape: (-1, 224, 224, 3)\n",
            "        name: serving_default_conv2d_input:0\n",
            "  The given SavedModel SignatureDef contains the following output(s):\n",
            "    outputs['dense_1'] tensor_info:\n",
            "        dtype: DT_FLOAT\n",
            "        shape: (-1, 2)\n",
            "        name: StatefulPartitionedCall:0\n",
            "  Method name is: tensorflow/serving/predict\n",
            "The MetaGraph with tag set ['serve'] contains the following ops: {'Const', 'BiasAdd', 'SaveV2', 'AssignVariableOp', 'ShardedFilename', 'DisableCopyOnRead', 'MatMul', 'ReadVariableOp', 'StringJoin', 'Identity', 'RestoreV2', 'NoOp', 'Reshape', 'VarHandleOp', 'Placeholder', 'MergeV2Checkpoints', 'Pack', 'Conv2D', 'Select', 'Relu', 'StatefulPartitionedCall', 'StaticRegexFullMatch', 'Sigmoid', 'MaxPool'}\n",
            "2023-06-14 10:31:47.670910: W tensorflow/core/common_runtime/gpu/gpu_bfc_allocator.cc:47] Overriding orig_value setting because the TF_FORCE_GPU_ALLOW_GROWTH environment variable is set. Original config value was 0.\n",
            "\n",
            "Concrete Functions:\n",
            "  Function Name: '__call__'\n",
            "    Option #1\n",
            "      Callable with:\n",
            "        Argument #1\n",
            "          conv2d_input: TensorSpec(shape=(None, 224, 224, 3), dtype=tf.float32, name='conv2d_input')\n",
            "        Argument #2\n",
            "          DType: bool\n",
            "          Value: True\n",
            "        Argument #3\n",
            "          DType: NoneType\n",
            "          Value: None\n",
            "    Option #2\n",
            "      Callable with:\n",
            "        Argument #1\n",
            "          inputs: TensorSpec(shape=(None, 224, 224, 3), dtype=tf.float32, name='inputs')\n",
            "        Argument #2\n",
            "          DType: bool\n",
            "          Value: True\n",
            "        Argument #3\n",
            "          DType: NoneType\n",
            "          Value: None\n",
            "    Option #3\n",
            "      Callable with:\n",
            "        Argument #1\n",
            "          inputs: TensorSpec(shape=(None, 224, 224, 3), dtype=tf.float32, name='inputs')\n",
            "        Argument #2\n",
            "          DType: bool\n",
            "          Value: False\n",
            "        Argument #3\n",
            "          DType: NoneType\n",
            "          Value: None\n",
            "    Option #4\n",
            "      Callable with:\n",
            "        Argument #1\n",
            "          conv2d_input: TensorSpec(shape=(None, 224, 224, 3), dtype=tf.float32, name='conv2d_input')\n",
            "        Argument #2\n",
            "          DType: bool\n",
            "          Value: False\n",
            "        Argument #3\n",
            "          DType: NoneType\n",
            "          Value: None\n",
            "\n",
            "  Function Name: '_default_save_signature'\n",
            "    Option #1\n",
            "      Callable with:\n",
            "        Argument #1\n",
            "          conv2d_input: TensorSpec(shape=(None, 224, 224, 3), dtype=tf.float32, name='conv2d_input')\n",
            "\n",
            "  Function Name: 'call_and_return_all_conditional_losses'\n",
            "    Option #1\n",
            "      Callable with:\n",
            "        Argument #1\n",
            "          inputs: TensorSpec(shape=(None, 224, 224, 3), dtype=tf.float32, name='inputs')\n",
            "        Argument #2\n",
            "          DType: bool\n",
            "          Value: True\n",
            "        Argument #3\n",
            "          DType: NoneType\n",
            "          Value: None\n",
            "    Option #2\n",
            "      Callable with:\n",
            "        Argument #1\n",
            "          inputs: TensorSpec(shape=(None, 224, 224, 3), dtype=tf.float32, name='inputs')\n",
            "        Argument #2\n",
            "          DType: bool\n",
            "          Value: False\n",
            "        Argument #3\n",
            "          DType: NoneType\n",
            "          Value: None\n",
            "    Option #3\n",
            "      Callable with:\n",
            "        Argument #1\n",
            "          conv2d_input: TensorSpec(shape=(None, 224, 224, 3), dtype=tf.float32, name='conv2d_input')\n",
            "        Argument #2\n",
            "          DType: bool\n",
            "          Value: True\n",
            "        Argument #3\n",
            "          DType: NoneType\n",
            "          Value: None\n",
            "    Option #4\n",
            "      Callable with:\n",
            "        Argument #1\n",
            "          conv2d_input: TensorSpec(shape=(None, 224, 224, 3), dtype=tf.float32, name='conv2d_input')\n",
            "        Argument #2\n",
            "          DType: bool\n",
            "          Value: False\n",
            "        Argument #3\n",
            "          DType: NoneType\n",
            "          Value: None\n"
          ]
        }
      ],
      "source": [
        "!saved_model_cli show --dir {export_path} --all"
      ]
    }
  ],
  "metadata": {
    "accelerator": "GPU",
    "colab": {
      "provenance": [],
      "gpuType": "T4"
    },
    "kernelspec": {
      "display_name": "Python 3",
      "name": "python3"
    },
    "language_info": {
      "name": "python"
    }
  },
  "nbformat": 4,
  "nbformat_minor": 0
}